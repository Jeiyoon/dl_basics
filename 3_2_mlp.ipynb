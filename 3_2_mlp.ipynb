{
  "nbformat": 4,
  "nbformat_minor": 0,
  "metadata": {
    "colab": {
      "name": "3-2_mlp.ipynb",
      "provenance": [],
      "collapsed_sections": []
    },
    "kernelspec": {
      "name": "python3",
      "display_name": "Python 3"
    }
  },
  "cells": [
    {
      "cell_type": "code",
      "metadata": {
        "colab": {
          "base_uri": "https://localhost:8080/"
        },
        "id": "iStVRF_KAg6Q",
        "outputId": "7a3b712d-1d8e-4de5-fa8c-33ac88bd9bcf"
      },
      "source": [
        "# array\n",
        "import numpy as np\n",
        "\n",
        "A = np.array([1, 2, 3, 4])\n",
        "print(A)\n",
        "\n",
        "print(np.ndim(A))\n",
        "print(A.shape)\n",
        "print(A.shape[0])\n",
        "\n",
        "B = np.array([[1, 2], \n",
        "              [3, 4],\n",
        "              [5, 6]])\n",
        "print(B)\n",
        "print(np.ndim(B))\n",
        "print(B.shape)"
      ],
      "execution_count": 8,
      "outputs": [
        {
          "output_type": "stream",
          "text": [
            "[1 2 3 4]\n",
            "1\n",
            "(4,)\n",
            "4\n",
            "[[1 2]\n",
            " [3 4]\n",
            " [5 6]]\n",
            "2\n",
            "(3, 2)\n"
          ],
          "name": "stdout"
        }
      ]
    },
    {
      "cell_type": "code",
      "metadata": {
        "colab": {
          "base_uri": "https://localhost:8080/"
        },
        "id": "Gn2KKYIqAsww",
        "outputId": "8c48c7dd-cb7c-4edb-de2c-9bd517f71884"
      },
      "source": [
        "# matmul\n",
        "A = np.array([[1, 2],\n",
        "              [3, 4]])\n",
        "print(A.shape)\n",
        "B = np.array([[5, 6],\n",
        "              [7, 8]])\n",
        "print(B.shape)\n",
        "\n",
        "print(A * B) # element-wise produce\n",
        "print(np.dot(A, B)) # matmul"
      ],
      "execution_count": 12,
      "outputs": [
        {
          "output_type": "stream",
          "text": [
            "(2, 2)\n",
            "(2, 2)\n",
            "[[ 5 12]\n",
            " [21 32]]\n",
            "[[19 22]\n",
            " [43 50]]\n"
          ],
          "name": "stdout"
        }
      ]
    },
    {
      "cell_type": "code",
      "metadata": {
        "colab": {
          "base_uri": "https://localhost:8080/"
        },
        "id": "RHNcgh3BClEE",
        "outputId": "8927d317-376a-4e06-e0d1-a998c51d6b52"
      },
      "source": [
        "import numpy as np\n",
        "\n",
        "X = np.array([1, 2])\n",
        "print(X.shape) # 1 x 2\n",
        "\n",
        "W = np.array([[1, 3, 5],\n",
        "              [2, 4, 6]])\n",
        "print(W.shape)\n",
        "\n",
        "Y = np.dot(X, W)\n",
        "print(Y)\n",
        "print(Y.shape) # 1 x 3"
      ],
      "execution_count": 15,
      "outputs": [
        {
          "output_type": "stream",
          "text": [
            "(2,)\n",
            "(2, 3)\n",
            "[ 5 11 17]\n",
            "(3,)\n"
          ],
          "name": "stdout"
        }
      ]
    },
    {
      "cell_type": "code",
      "metadata": {
        "colab": {
          "base_uri": "https://localhost:8080/"
        },
        "id": "323MYehJENF3",
        "outputId": "5aae4840-fd53-4641-f645-7479d9399d16"
      },
      "source": [
        "# three-layered neural net\n",
        "# A = XW + B\n",
        "import numpy as np\n",
        "\n",
        "def sigmoid(z):\n",
        "  return 1 / 1 + np.exp(-z)\n",
        "\n",
        "def identitiy_function(y):\n",
        "  return y\n",
        "\n",
        "# input\n",
        "X = np.array([1.0, 0.5])\n",
        "\n",
        "# 1st layer\n",
        "W1 = np.array([[0.1, 0.3, 0.5],\n",
        "               [0.2, 0.4, 0.6]])\n",
        "\n",
        "B1 = np.array([0.1, 0.2, 0.3])\n",
        "\n",
        "print(W1.shape)\n",
        "print(X.shape)\n",
        "print(B1.shape)\n",
        "\n",
        "A1 = np.dot(X, W1) + B1\n",
        "print(A1) # [a1, a2, a3] / hidden\n",
        "Z1 = sigmoid(A1)\n",
        "print(Z1)\n",
        "\n",
        "# 2nd layer\n",
        "W2 = np.array([[0.1, 0.4],\n",
        "               [0.2, 0.5],\n",
        "               [0.3, 0.6]])\n",
        "B2 = np.array([0.1, 0.2])\n",
        "\n",
        "print(Z1.shape)\n",
        "print(W2.shape)\n",
        "print(B2.shape)\n",
        "\n",
        "A2 = np.dot(Z1, W2) + B2\n",
        "Z2 = sigmoid(A2)\n",
        "\n",
        "# 3rd layer\n",
        "W3 = np.array([[0.1, 0.3],\n",
        "               [0.2, 0.4]])\n",
        "B3 = np.array([0.1, 0.2])\n",
        "A3 = np.dot(Z2, W3) + B3\n",
        "print(A3)\n",
        "Y = identitiy_function(A3)\n",
        "\n",
        "print(Y)"
      ],
      "execution_count": 29,
      "outputs": [
        {
          "output_type": "stream",
          "text": [
            "(2, 3)\n",
            "(2,)\n",
            "(3,)\n",
            "[0.3 0.7 1.1]\n",
            "[1.74081822 1.4965853  1.33287108]\n",
            "(3,)\n",
            "(3, 2)\n",
            "(2,)\n",
            "[0.45514155 1.04806802]\n",
            "[0.45514155 1.04806802]\n"
          ],
          "name": "stdout"
        }
      ]
    },
    {
      "cell_type": "code",
      "metadata": {
        "colab": {
          "base_uri": "https://localhost:8080/"
        },
        "id": "A80vs7tEInbu",
        "outputId": "994a2952-4c53-45c9-c667-1c0fb371dfdb"
      },
      "source": [
        "# mlp\n",
        "import numpy as np\n",
        "\n",
        "def sigmoid(z):\n",
        "  return 1 / 1 + np.exp(-z)\n",
        "\n",
        "def init_network():\n",
        "  network = {}\n",
        "  network['W1'] = np.array([[0.1, 0.3, 0.5], [0.2, 0.4, 0.6]])\n",
        "  network['b1'] = np.array([0.1, 0.2, 0.3])\n",
        "  network['W2'] = np.array([[0.1, 0.4], [0.2, 0.5], [0.3, 0.6]])\n",
        "  network['b2'] = np.array([0.1, 0.2])\n",
        "  network['W3'] = np.array([[0.1, 0.3], [0.2, 0.4]])\n",
        "  network['b3'] = np.array([0.1, 0.2])\n",
        "\n",
        "  return network\n",
        "  \n",
        "def forward(network, x):\n",
        "  W1, W2, W3 = network['W1'], network['W2'], network['W3']\n",
        "  b1, b2, b3 = network['b1'], network['b2'], network['b3']\n",
        "\n",
        "  a1 = np.dot(x, W1) + b1\n",
        "  z1 = sigmoid(a1)\n",
        "  \n",
        "  a2 = np.dot(z1, W2) + b2\n",
        "  z2 = sigmoid(a2)\n",
        "\n",
        "  a3 = np.dot(z2, W3) + b3\n",
        "  y = a3\n",
        "\n",
        "  return y \n",
        "  \n",
        "network = init_network()\n",
        "x = np.array([1.0, 0.5])\n",
        "y = forward(network, x)\n",
        "print(y)"
      ],
      "execution_count": 31,
      "outputs": [
        {
          "output_type": "stream",
          "text": [
            "[0.45514155 1.04806802]\n"
          ],
          "name": "stdout"
        }
      ]
    }
  ]
}