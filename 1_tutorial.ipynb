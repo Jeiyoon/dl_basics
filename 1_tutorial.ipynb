{
  "nbformat": 4,
  "nbformat_minor": 0,
  "metadata": {
    "colab": {
      "name": "1_tutorial.ipynb",
      "provenance": []
    },
    "kernelspec": {
      "name": "python3",
      "display_name": "Python 3"
    }
  },
  "cells": [
    {
      "cell_type": "code",
      "metadata": {
        "colab": {
          "base_uri": "https://localhost:8080/"
        },
        "id": "ZwNTJyxUsYKl",
        "outputId": "19290096-600f-4059-9b4d-2e097b412246"
      },
      "source": [
        "# dictionary\n",
        "me = {'height': 182}\n",
        "\n",
        "print(me['height'])\n",
        "\n",
        "me['weight'] = 70\n",
        "\n",
        "print(me)"
      ],
      "execution_count": 19,
      "outputs": [
        {
          "output_type": "stream",
          "text": [
            "180\n",
            "{'height': 180, 'weight': 70}\n"
          ],
          "name": "stdout"
        }
      ]
    },
    {
      "cell_type": "code",
      "metadata": {
        "colab": {
          "base_uri": "https://localhost:8080/"
        },
        "id": "p_Cx5u6j3rWg",
        "outputId": "c62ffefe-df33-4bcd-e7dc-211c8cece9be"
      },
      "source": [
        "# class\n",
        "class Man:\n",
        "  def __init__(self, name):\n",
        "    self.name = name\n",
        "    print(\"Initialized!\")\n",
        "\n",
        "  def hello(self):\n",
        "    print(\"hello \" + self.name + \"!\")\n",
        "\n",
        "  def goodbye(self):\n",
        "    print(\"Good-bye \" + self.name + \"!\")\n",
        "\n",
        "m = Man(\"Jeiyoon\")\n",
        "m.hello()\n",
        "m.goodbye()"
      ],
      "execution_count": 21,
      "outputs": [
        {
          "output_type": "stream",
          "text": [
            "Initialized!\n",
            "hello Jeiyoon!\n",
            "Good-bye Jeiyoon!\n"
          ],
          "name": "stdout"
        }
      ]
    },
    {
      "cell_type": "code",
      "metadata": {
        "colab": {
          "base_uri": "https://localhost:8080/"
        },
        "id": "aHPVkjno3uhr",
        "outputId": "dba3fec3-23b9-4a15-9c16-1dba302a6349"
      },
      "source": [
        "# numpy\n",
        "import numpy as np\n",
        "\n",
        "x = np.array([1.0, 2.0, 3.0])\n",
        "y = np.array([2.0, 4.0, 6.0])\n",
        "\n",
        "# element-wise product\n",
        "print(x * y)\n",
        "\n",
        "A = np.array([[1, 2], \n",
        "              [3, 4]])\n",
        "B = np.array([[3, 0], \n",
        "              [0, 6]])\n",
        "# element-wsie product\n",
        "print(A * B)\n",
        "\n",
        "# broadcast\n",
        "A = np.array([[1, 2], [3, 4]])\n",
        "B = np.array([10, 20])\n",
        "print(A * B)\n",
        "\n",
        "# flatten\n",
        "X = np.array([[51, 55], [14, 19], [0, 4]])\n",
        "print(X)\n",
        "X = X.flatten()\n",
        "print(X)"
      ],
      "execution_count": 28,
      "outputs": [
        {
          "output_type": "stream",
          "text": [
            "[ 2.  8. 18.]\n",
            "[[ 3  0]\n",
            " [ 0 24]]\n",
            "[[10 40]\n",
            " [30 80]]\n",
            "[[51 55]\n",
            " [14 19]\n",
            " [ 0  4]]\n",
            "[51 55 14 19  0  4]\n"
          ],
          "name": "stdout"
        }
      ]
    }
  ]
}